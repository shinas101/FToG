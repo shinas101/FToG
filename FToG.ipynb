{
  "cells": [
    {
      "cell_type": "markdown",
      "metadata": {
        "id": "view-in-github",
        "colab_type": "text"
      },
      "source": [
        "<a href=\"https://colab.research.google.com/github/shinas101/FToG/blob/main/FToG.ipynb\" target=\"_parent\"><img src=\"https://colab.research.google.com/assets/colab-badge.svg\" alt=\"Open In Colab\"/></a>"
      ]
    },
    {
      "cell_type": "markdown",
      "metadata": {
        "id": "X2VluUCSjOWd"
      },
      "source": [
        "**☄ Torrent Files To Drive**\n",
        "\n",
        "-> upload any torrent / direct file to your Google drive \n",
        "\n",
        "-> if you want more storage in colab change runtime type to gpu\n",
        "\n",
        "made by *Shinas* with ♥\n",
        "\n"
      ]
    },
    {
      "cell_type": "markdown",
      "source": [
        "1.First run this "
      ],
      "metadata": {
        "id": "Bf_0_E8sUYB3"
      }
    },
    {
      "cell_type": "code",
      "execution_count": null,
      "metadata": {
        "id": "voKL95vPjVmP",
        "colab": {
          "base_uri": "https://localhost:8080/"
        },
        "outputId": "2ebdfdd1-4551-4b7a-ead3-67b02ace3fa8"
      },
      "outputs": [
        {
          "output_type": "stream",
          "name": "stdout",
          "text": [
            "Mounted at /content/drive\n"
          ]
        }
      ],
      "source": [
        "from google.colab import drive #this code will connect your Gdrive with colab\n",
        "drive.mount('/content/drive')"
      ]
    },
    {
      "cell_type": "markdown",
      "metadata": {
        "id": "pcvXhwkgjW8M"
      },
      "source": [
        "2.now this:"
      ]
    },
    {
      "cell_type": "code",
      "execution_count": null,
      "metadata": {
        "id": "-Sik77IrjaAP"
      },
      "outputs": [],
      "source": [
        "#this will install required tools\n",
        "!python -m pip install --upgrade pip setuptools wheel && python -m pip install lbry-libtorrent && apt install python3-libtorrent "
      ]
    },
    {
      "cell_type": "markdown",
      "metadata": {
        "id": "Kr2iHwvMjent"
      },
      "source": [
        "3.and this"
      ]
    },
    {
      "cell_type": "code",
      "execution_count": null,
      "metadata": {
        "id": "N3xYjX_wjlsS"
      },
      "outputs": [],
      "source": [
        "#main code for Torrent to Gdrive \n",
        "import libtorrent as lt\n",
        "import time\n",
        "import datetime\n",
        "\n",
        "def download_torrent():\n",
        "    ses = lt.session()\n",
        "    ses.listen_on(6881, 6891)\n",
        "    link = input(\"Input Torrent Link or Magnet and Press Enter: \")\n",
        "    print(link)\n",
        "\n",
        "    handle = lt.add_magnet_uri(ses, link, params)\n",
        "    handle.set_sequential_download(0) #change 0 to 1 if you want download in sequential order(only if you want to download in .zip format)\n",
        "\n",
        "    ses.start_dht()\n",
        "    begin = time.time()\n",
        "    print(datetime.datetime.now())\n",
        "\n",
        "    print('[*]Downloading Metadata')\n",
        "    while not handle.has_metadata():\n",
        "        time.sleep(1)\n",
        "    print('[*]Starting Torrent Download')\n",
        "\n",
        "    print(\"Starting\", handle.name())\n",
        "\n",
        "    while handle.status().state != lt.torrent_status.seeding:   #simple Downloading status code\n",
        "        s = handle.status()\n",
        "        state_str = ['queued', 'checking', 'downloading metadata',\n",
        "                     'downloading', 'finished', 'seeding', 'allocating']\n",
        "        print('%.2f%% complete (down: %.1f kb/s up: %.1f kB/s peers: %d) %s ' % \\\n",
        "              (s.progress * 100, s.download_rate / 1000, s.upload_rate / 1000, \\\n",
        "               s.num_peers, state_str[s.state]))\n",
        "        time.sleep(5)\n",
        "\n",
        "    end = time.time()\n",
        "    print(handle.name(), \"COMPLETE\")\n",
        "\n",
        "    print(\"Elapsed Time: \", int((end - begin) // 60), \"min :\", int((end - begin) % 60), \"sec\")\n",
        "\n",
        "    print(datetime.datetime.now())\n",
        "\n",
        "\n",
        "zipp = input(\"if you want to zip the file,input 'y' else leave blank and Press Enter:\")\n",
        "\n",
        "if zipp == 'Y' or zipp == 'y': #zip you file\n",
        "    zip_name = input(\"Input a name for the zip file: \")\n",
        "    import shutil\n",
        "\n",
        "    params = {\n",
        "        'save_path': '/content/temp/',\n",
        "        'storage_mode': lt.storage_mode_t(2),\n",
        "    }\n",
        "    download_torrent()\n",
        "\n",
        "    print(\"now time to zip\")\n",
        "\n",
        "    print(\"Zipping ...\")\n",
        "    final_zip_directory = '/content/drive/MyDrive/Torrent/' + zip_name\n",
        "    shutil.make_archive(final_zip_directory, 'zip', '/content/temp/')\n",
        "    shutil.rmtree('/content/temp/')\n",
        "\n",
        "else:\n",
        "    params = {\n",
        "        'save_path': '/content/drive/MyDrive/Torrent/', #change paths where you want to store \n",
        "        'storage_mode': lt.storage_mode_t(2),\n",
        "    }\n",
        "    download_torrent()\n",
        "\n",
        "print('\\n[*]ALL DONE!')\n"
      ]
    },
    {
      "cell_type": "markdown",
      "source": [
        "Direct link to G Drive :"
      ],
      "metadata": {
        "id": "g2AsSxb20Lyh"
      }
    },
    {
      "cell_type": "code",
      "metadata": {
        "id": "UwJmtnDcOnO1"
      },
      "source": [
        "#main code for Link to Gdrive by making use of Wget\n",
        "link = input(\"[*]Input Direct link and Press Enter: \")\n",
        "!wget -c $link -p \"/content/drive/MyDrive/Torrent/\"#change output path if you want to"
      ],
      "execution_count": null,
      "outputs": []
    },
    {
      "cell_type": "markdown",
      "source": [
        "**speed test 💥:**"
      ],
      "metadata": {
        "id": "9mtIg_w0qwoT"
      }
    },
    {
      "cell_type": "code",
      "source": [
        "pip install speedtest-cli >> /dev/null #module for speed test"
      ],
      "metadata": {
        "id": "OXrcbOGwq0Ue"
      },
      "execution_count": null,
      "outputs": []
    },
    {
      "cell_type": "code",
      "source": [
        "#main code for speed test \n",
        "import speedtest as st\n",
        "speed_test = st.Speedtest()\n",
        "speed_test.get_best_server()\n",
        "\n",
        "    # Get ping (miliseconds)\n",
        "ping = speed_test.results.ping\n",
        "    # Perform download and upload speed tests (bits per second)\n",
        "download = speed_test.download()\n",
        "upload = speed_test.upload()\n",
        "\n",
        "    # Convert download and upload speeds to megabits per second\n",
        "download_mbs = round(download / (10**6), 2)\n",
        "upload_mbs = round(upload / (10**6), 2)\n",
        "print(\"[*]Ping :\",ping)\n",
        "print(\"[*]Download in Bits:\",download)\n",
        "print(\"[*]Upload in Bits:\",upload)\n",
        "print(\"[*]Download in Mb:\",download_mbs)\n",
        "print(\"[*]Upload  in Mb:\",upload_mbs)"
      ],
      "metadata": {
        "id": "bbn36C5akY28"
      },
      "execution_count": null,
      "outputs": []
    }
  ],
  "metadata": {
    "colab": {
      "name": "FToG.ipynb",
      "provenance": [],
      "collapsed_sections": [],
      "include_colab_link": true
    },
    "kernelspec": {
      "display_name": "Python 3",
      "name": "python3"
    },
    "language_info": {
      "name": "python"
    },
    "accelerator": "GPU"
  },
  "nbformat": 4,
  "nbformat_minor": 0
}
<! ---  shinas --->
